{
 "cells": [
  {
   "cell_type": "code",
   "execution_count": 4,
   "metadata": {},
   "outputs": [
    {
     "name": "stdout",
     "output_type": "stream",
     "text": [
      "Asalam u alikum, python world!\n"
     ]
    }
   ],
   "source": [
    "message = \"Asalam u alikum, python world!\"\n",
    "print(message)"
   ]
  },
  {
   "cell_type": "code",
   "execution_count": 5,
   "metadata": {},
   "outputs": [
    {
     "name": "stdout",
     "output_type": "stream",
     "text": [
      "I m from usman institute of technology\n",
      "my students are great ...\n"
     ]
    }
   ],
   "source": [
    "message2 = \"I m from usman institute of technology\"\n",
    "message3 = \"my students are great ...\"\n",
    "print(message2)\n",
    "print(message3)"
   ]
  },
  {
   "cell_type": "code",
   "execution_count": 6,
   "metadata": {},
   "outputs": [
    {
     "name": "stdout",
     "output_type": "stream",
     "text": [
      "Shaikh Khurram Khalil\n",
      "shaikh khurram khalil\n",
      "SHAIKH KHURRAM KHALIL\n"
     ]
    }
   ],
   "source": [
    "name = \"SHaikh kHurRam khAlil\"\n",
    "# three functions can be used title(), upper(), lower())\n",
    "print(name.title())\n",
    "print(name.lower())\n",
    "print(name.upper())"
   ]
  },
  {
   "cell_type": "code",
   "execution_count": null,
   "metadata": {},
   "outputs": [],
   "source": [
    "message = input(\"tell me something, and I will repeat it back to you: \")\n",
    "print(message)"
   ]
  },
  {
   "cell_type": "code",
   "execution_count": 1,
   "metadata": {},
   "outputs": [
    {
     "name": "stdout",
     "output_type": "stream",
     "text": [
      "please enter your name: asc\n",
      "assalam u alikum , asc!\n"
     ]
    }
   ],
   "source": [
    "name = input(\"please enter your name: \")\n",
    "print(\"assalam u alikum , \" + name + \"!\")"
   ]
  },
  {
   "cell_type": "code",
   "execution_count": 2,
   "metadata": {},
   "outputs": [
    {
     "name": "stdout",
     "output_type": "stream",
     "text": [
      "Usman institute of technology\n"
     ]
    }
   ],
   "source": [
    "uni_first_name = \"Usman\"\n",
    "uni_middle_name = \"institute of\"\n",
    "uni_last_name = \"technology\"\n",
    "full_name = uni_first_name + \" \" + uni_middle_name + \" \" + uni_last_name\n",
    "print(full_name)"
   ]
  },
  {
   "cell_type": "code",
   "execution_count": 4,
   "metadata": {},
   "outputs": [
    {
     "name": "stdout",
     "output_type": "stream",
     "text": [
      "I am learning python programming.\n",
      "I am learning \t python \t programming.\n"
     ]
    }
   ],
   "source": [
    "print(\"I am learning python programming.\")\n",
    "print(\"I am learning \\t python \\t programming.\")"
   ]
  },
  {
   "cell_type": "code",
   "execution_count": 5,
   "metadata": {},
   "outputs": [
    {
     "name": "stdout",
     "output_type": "stream",
     "text": [
      "I learned these programming languages: \n",
      " C \n",
      " Java \n",
      " python\n"
     ]
    }
   ],
   "source": [
    "print(\"I learned these programming languages: \\n C \\n Java \\n python\")"
   ]
  },
  {
   "cell_type": "code",
   "execution_count": 12,
   "metadata": {},
   "outputs": [
    {
     "name": "stdout",
     "output_type": "stream",
     "text": [
      "7\n",
      "2\n",
      "56\n",
      "16\n",
      "2.0\n",
      "59\n",
      "14.0\n",
      "9.0\n",
      "2278\n",
      "4100625\n",
      "162.5\n"
     ]
    }
   ],
   "source": [
    "# Add, Sub, Mul, Div, Pow\n",
    "print(2+5)\n",
    "print(6-4)\n",
    "print(7*8)\n",
    "print((3+5)*2)\n",
    "print(8/4)\n",
    "print(2+3+4+5+45) \n",
    "print(56/4)\n",
    "print(81/9)\n",
    "print(67*34)\n",
    "print(45**4)\n",
    "print(2.5*65)"
   ]
  },
  {
   "cell_type": "markdown",
   "metadata": {},
   "source": [
    "# lab 01 "
   ]
  },
  {
   "cell_type": "code",
   "execution_count": 1,
   "metadata": {},
   "outputs": [
    {
     "name": "stdout",
     "output_type": "stream",
     "text": [
      "what is your name: sds\n",
      "what is your age: 34\n",
      "sdswill be 100 year old in the year :2084\n"
     ]
    }
   ],
   "source": [
    "name = input(\"what is your name: \")\n",
    "age = int(input(\"what is your age: \"))\n",
    "\n",
    "year = str((2018-age)+100)\n",
    "\n",
    "print(name + \"will be 100 year old in the year :\" + year)\n"
   ]
  },
  {
   "cell_type": "code",
   "execution_count": 4,
   "metadata": {},
   "outputs": [
    {
     "name": "stdout",
     "output_type": "stream",
     "text": [
      "twinkel, twinkel, little star, \n",
      "\tHow i wonder what you are, \n",
      "\t\t up above the world so high, \n",
      "\t\t like the diamond in the sky. \n",
      " twinkel, twinkel, little star, \n",
      "\t how i wonder hwat you are! \n"
     ]
    }
   ],
   "source": [
    "print(\"twinkel, twinkel, little star, \\n\\tHow i wonder what you are, \\n\\t\\t up above the world so high, \\n\\t\\t like the diamond in the sky. \\n twinkel, twinkel, little star, \\n\\t how i wonder hwat you are! \")"
   ]
  },
  {
   "cell_type": "code",
   "execution_count": 7,
   "metadata": {},
   "outputs": [
    {
     "name": "stdout",
     "output_type": "stream",
     "text": [
      "current date and time: \n",
      "2018-10-12 12:21:51\n"
     ]
    }
   ],
   "source": [
    "import datetime\n",
    "now = datetime.datetime.now()\n",
    "print(\"current date and time: \")\n",
    "print(now.strftime(\"%Y-%m-%d %H:%M:%S\"))"
   ]
  },
  {
   "cell_type": "code",
   "execution_count": 1,
   "metadata": {},
   "outputs": [
    {
     "name": "stdout",
     "output_type": "stream",
     "text": [
      "input the radius of the circle: 40\n",
      "the radius of the circle is: 40.05026.548245743669\n"
     ]
    }
   ],
   "source": [
    "from math import pi\n",
    "r = float(input(\"input the radius of the circle: \"))\n",
    "print(\"the radius of the circle is: \" + str(r) + str(pi*r**2))"
   ]
  },
  {
   "cell_type": "code",
   "execution_count": 3,
   "metadata": {},
   "outputs": [
    {
     "name": "stdout",
     "output_type": "stream",
     "text": [
      "your first name: khurram\n",
      "your final name: khalil\n",
      "hello khalilkhurram\n"
     ]
    }
   ],
   "source": [
    "fname = input(\"your first name: \")\n",
    "Iname = input(\"your final name: \")\n",
    "print(\"hello \" + Iname + \"\" + fname)"
   ]
  },
  {
   "cell_type": "code",
   "execution_count": 7,
   "metadata": {},
   "outputs": [
    {
     "name": "stdout",
     "output_type": "stream",
     "text": [
      "input the year: 2018\n",
      "input the month: 9\n",
      "   September 2018\n",
      "Mo Tu We Th Fr Sa Su\n",
      "                1  2\n",
      " 3  4  5  6  7  8  9\n",
      "10 11 12 13 14 15 16\n",
      "17 18 19 20 21 22 23\n",
      "24 25 26 27 28 29 30\n",
      "\n"
     ]
    }
   ],
   "source": [
    "import calendar\n",
    "y = int(input(\"input the year: \"))\n",
    "m = int(input(\"input the month: \"))\n",
    "print(calendar.month(y,m))"
   ]
  },
  {
   "cell_type": "code",
   "execution_count": null,
   "metadata": {},
   "outputs": [],
   "source": []
  }
 ],
 "metadata": {
  "kernelspec": {
   "display_name": "Python 3",
   "language": "python",
   "name": "python3"
  },
  "language_info": {
   "codemirror_mode": {
    "name": "ipython",
    "version": 3
   },
   "file_extension": ".py",
   "mimetype": "text/x-python",
   "name": "python",
   "nbconvert_exporter": "python",
   "pygments_lexer": "ipython3",
   "version": "3.6.5"
  }
 },
 "nbformat": 4,
 "nbformat_minor": 2
}
